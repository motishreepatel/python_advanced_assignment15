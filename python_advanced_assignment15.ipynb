{
 "cells": [
  {
   "cell_type": "code",
   "execution_count": null,
   "metadata": {},
   "outputs": [],
   "source": [
    "#Q1 - What are the new features added in Python 3.8 version?\n",
    "#Answer:\n",
    "Python 3.8 introduced several new features and improvements. Here are some notable ones:\n",
    "\n",
    "1. Assignment Expressions (the Walrus Operator): This feature allows you to assign values to variables within expressions using \n",
    "the `:=` operator. It helps reduce code duplication and improves readability.\n",
    "\n",
    "2. Positional-Only Parameters: Python 3.8 introduced the ability to define function parameters that can only be passed positionally and not \n",
    "as keyword arguments. This provides more control over how functions are called.\n",
    "\n",
    "3. f-strings support = for self-documenting expressions: f-strings gained the ability to include an `=` sign within expressions, which helps \n",
    "in self-documenting the output by displaying the expression itself along with its value.\n",
    "\n",
    "4. The `math.prod()` function: A new function `math.prod()` was added to the `math` module, which calculates the product of all the elements \n",
    "in an iterable.\n",
    "\n",
    "5. The `statistics.mode()` function: The `statistics` module now includes a `mode()` function that calculates the mode (most common value) \n",
    "of a dataset.\n",
    "\n",
    "6. Improved Syntax Warnings: Python 3.8 introduced improved syntax warnings that provide more detailed information about potential syntax \n",
    "errors or deprecated features."
   ]
  },
  {
   "cell_type": "code",
   "execution_count": null,
   "metadata": {},
   "outputs": [],
   "source": [
    "#Q2 - What is monkey patching in Python?\n",
    "#Answer:\n",
    "Monkey patching in Python refers to the practice of modifying or extending the behavior of existing classes or modules at runtime. It allows \n",
    "you to add, modify, or replace methods, attributes, or functions of an object or module without altering its original source code.\n",
    "\n",
    "Monkey patching is possible in Python due to its dynamic nature, which allows objects to be modified during runtime. This technique can be \n",
    "useful in certain scenarios, such as fixing bugs or adding functionality to third-party libraries or modules without having to modify their \n",
    "original source code."
   ]
  },
  {
   "cell_type": "code",
   "execution_count": null,
   "metadata": {},
   "outputs": [],
   "source": [
    "#Q3 - What is the difference between a shallow copy and deep copy?\n",
    "#Answer:\n",
    "The difference between a shallow copy and a deep copy lies in how they create and handle copies of objects in Python.\n",
    "\n",
    "A shallow copy creates a new object that references the original elements of the copied object. In other words, it creates a new object, but \n",
    "the elements inside the object are still references to the same objects as the original. Changes made to the original object will be reflected \n",
    "in the shallow copy, and vice versa. Shallow copy can be created using the `copy()` method or the slicing syntax `[:]`.\n",
    "\n",
    "On the other hand, a deep copy creates a new object and recursively copies all the objects found within the original object. It creates a \n",
    "completely independent copy where changes made to the original object will not affect the deep copy, and vice versa. Deep copy can be \n",
    "created using the `deepcopy()` function from the `copy` module.\n"
   ]
  },
  {
   "cell_type": "code",
   "execution_count": null,
   "metadata": {},
   "outputs": [],
   "source": [
    "#Q4 - What is the maximum possible length of an identifier?\n",
    "#Answer:\n",
    "In Python, the maximum possible length of an identifier is not explicitly defined. However, there are practical limitations imposed by the \n",
    "Python language implementation. According to the Python documentation, an identifier can be of any length, but it is recommended to keep it \n",
    "reasonably short for the sake of readability and maintainability."
   ]
  },
  {
   "cell_type": "code",
   "execution_count": 1,
   "metadata": {},
   "outputs": [
    {
     "name": "stdout",
     "output_type": "stream",
     "text": [
      "0\n",
      "1\n",
      "2\n",
      "3\n",
      "4\n"
     ]
    }
   ],
   "source": [
    "#Q5 - What is generator comprehension?\n",
    "#Answer:\n",
    "'''Generator comprehension, also known as generator expression, is a concise way to create a generator object in Python. It is similar to list \n",
    "comprehension but with a slight difference in syntax and behavior.\n",
    "\n",
    "In generator comprehension, instead of creating a list, it creates an iterable generator object. This generator object generates values \n",
    "on-the-fly as they are needed, rather than creating and storing all the values in memory at once like a list. '''\n",
    "#Exp:\n",
    "generator = (x for x in range(5))\n",
    "for value in generator:\n",
    "    print(value)"
   ]
  },
  {
   "cell_type": "code",
   "execution_count": null,
   "metadata": {},
   "outputs": [],
   "source": []
  }
 ],
 "metadata": {
  "kernelspec": {
   "display_name": "Python 3.9.6 64-bit",
   "language": "python",
   "name": "python3"
  },
  "language_info": {
   "codemirror_mode": {
    "name": "ipython",
    "version": 3
   },
   "file_extension": ".py",
   "mimetype": "text/x-python",
   "name": "python",
   "nbconvert_exporter": "python",
   "pygments_lexer": "ipython3",
   "version": "3.9.6"
  },
  "orig_nbformat": 4,
  "vscode": {
   "interpreter": {
    "hash": "31f2aee4e71d21fbe5cf8b01ff0e069b9275f58929596ceb00d14d90e3e16cd6"
   }
  }
 },
 "nbformat": 4,
 "nbformat_minor": 2
}
